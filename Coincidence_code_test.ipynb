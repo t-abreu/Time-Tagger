{
 "cells": [
  {
   "cell_type": "code",
   "execution_count": 1,
   "metadata": {},
   "outputs": [
    {
     "data": {
      "text/plain": [
       "(1, 2, 3, 4)"
      ]
     },
     "execution_count": 1,
     "metadata": {},
     "output_type": "execute_result"
    }
   ],
   "source": [
    "import os\n",
    "import sys\n",
    "import itertools\n",
    "\n",
    "# matplotlib for the plots, including its Qt backend\n",
    "from matplotlib.backends.backend_qt5agg import FigureCanvasQTAgg, NavigationToolbar2QT\n",
    "from matplotlib.figure import Figure\n",
    "\n",
    "# numpy for statistical analysis\n",
    "import numpy as np\n",
    "\n",
    "# all required TimeTagger dependencies\n",
    "from TimeTagger import (createTimeTagger, Countrate,Counter, Coincidences,ChannelEdge, SynchronizedMeasurements, Correlation,\n",
    "freeTimeTagger)\n",
    "\n",
    "\n",
    "# Time Tagger configuration\n",
    "tagger = createTimeTagger()\n",
    "input_channels = tagger.getChannelList(ChannelEdge.Rising)[:8]\n",
    "\n",
    "#consider fourth-order coincidence events from eight input channels.\n",
    "order = 2\n",
    "groups = list(itertools.combinations(input_channels, order))\n",
    "coincidences_vchannels = Coincidences(tagger, groups, coincidenceWindow=100)\n",
    "\n",
    "#Generate a list including input and virtual channels\n",
    "channels = [*input_channels, *coincidences_vchannels.getChannels()]\n",
    "\n",
    "counting = Counter(tagger, channels, 1e10, 300)\n",
    "\n",
    "measurementDuration = 10e12 # 10 s\n",
    "counting.startFor(measurementDuration)\n",
    "counting.waitUntilFinished()\n",
    "\n",
    "index = counting.getIndex()\n",
    "counts = counting.getData()\n",
    "\n",
    "input_channels"
   ]
  }
 ],
 "metadata": {
  "kernelspec": {
   "display_name": "Python 3",
   "language": "python",
   "name": "python3"
  },
  "language_info": {
   "codemirror_mode": {
    "name": "ipython",
    "version": 3
   },
   "file_extension": ".py",
   "mimetype": "text/x-python",
   "name": "python",
   "nbconvert_exporter": "python",
   "pygments_lexer": "ipython3",
   "version": "3.11.11"
  }
 },
 "nbformat": 4,
 "nbformat_minor": 2
}
